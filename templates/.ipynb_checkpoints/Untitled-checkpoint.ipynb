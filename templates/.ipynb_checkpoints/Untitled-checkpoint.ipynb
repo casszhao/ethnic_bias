{
 "cells": [
  {
   "cell_type": "code",
   "execution_count": 4,
   "id": "amber-harvest",
   "metadata": {},
   "outputs": [],
   "source": [
    "with open('templates_en.txt', 'r') as f:\n",
    "    template_text = f.readlines()\n",
    "    \n",
    "templates = []\n",
    "for text in template_text:\n",
    "    templates.append(text.strip())\n",
    "    \n",
    "with open('occ_en.txt', 'r') as f:\n",
    "    occ_text = f.readlines()\n",
    "    \n",
    "occs = []\n",
    "for text in occ_text:\n",
    "    occs.append(text.strip())"
   ]
  },
  {
   "cell_type": "code",
   "execution_count": 5,
   "id": "skilled-education",
   "metadata": {},
   "outputs": [],
   "source": [
    "with open('inserted.txt', 'w') as f:\n",
    "    for template in templates:\n",
    "        for occ in occs:\n",
    "            if '[AAAs]' in template:\n",
    "                f.write(template.replace('[AAAs]', occ) + '\\n')\n",
    "            else:\n",
    "                f.write(template.replace('[AAA]', occ) + '\\n')"
   ]
  },
  {
   "cell_type": "code",
   "execution_count": null,
   "id": "disciplinary-document",
   "metadata": {},
   "outputs": [],
   "source": [
    "with open('inserted1.txt', 'w') as f:\n",
    "    for template in templates:\n",
    "        f.write(template + '\\n')\n",
    "    for occ in occs:\n",
    "        f.write(occ + '\\n')"
   ]
  }
 ],
 "metadata": {
  "kernelspec": {
   "display_name": "Python 3",
   "language": "python",
   "name": "python3"
  },
  "language_info": {
   "codemirror_mode": {
    "name": "ipython",
    "version": 3
   },
   "file_extension": ".py",
   "mimetype": "text/x-python",
   "name": "python",
   "nbconvert_exporter": "python",
   "pygments_lexer": "ipython3",
   "version": "3.7.10"
  }
 },
 "nbformat": 4,
 "nbformat_minor": 5
}
